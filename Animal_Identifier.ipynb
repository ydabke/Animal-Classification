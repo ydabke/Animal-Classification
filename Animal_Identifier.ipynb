{
  "nbformat": 4,
  "nbformat_minor": 0,
  "metadata": {
    "colab": {
      "provenance": [],
      "gpuType": "T4",
      "authorship_tag": "ABX9TyOR/96mYcD7s4AegECtbTFE",
      "include_colab_link": true
    },
    "kernelspec": {
      "name": "python3",
      "display_name": "Python 3"
    },
    "language_info": {
      "name": "python"
    },
    "accelerator": "GPU"
  },
  "cells": [
    {
      "cell_type": "markdown",
      "metadata": {
        "id": "view-in-github",
        "colab_type": "text"
      },
      "source": [
        "<a href=\"https://colab.research.google.com/github/ydabke/Animal-Classification/blob/main/Animal_Identifier.ipynb\" target=\"_parent\"><img src=\"https://colab.research.google.com/assets/colab-badge.svg\" alt=\"Open In Colab\"/></a>"
      ]
    },
    {
      "cell_type": "code",
      "execution_count": null,
      "metadata": {
        "colab": {
          "base_uri": "https://localhost:8080/"
        },
        "id": "YI_me3WHfojB",
        "outputId": "98db2326-edac-4f97-add1-75c2d3a1eabd"
      },
      "outputs": [
        {
          "output_type": "stream",
          "name": "stdout",
          "text": [
            "Please provide your Kaggle credentials to download this dataset. Learn more: http://bit.ly/kaggle-creds\n",
            "Your Kaggle username: ydubds\n",
            "Your Kaggle Key: ··········\n",
            "Dataset URL: https://www.kaggle.com/datasets/andrewmvd/animal-faces\n",
            "Downloading animal-faces.zip to ./animal-faces\n"
          ]
        },
        {
          "output_type": "stream",
          "name": "stderr",
          "text": [
            "100%|██████████| 696M/696M [00:07<00:00, 102MB/s]\n"
          ]
        },
        {
          "output_type": "stream",
          "name": "stdout",
          "text": [
            "\n"
          ]
        }
      ],
      "source": [
        "!pip install opendatasets --quiet\n",
        "import opendatasets as od\n",
        "od.download(\"https://www.kaggle.com/datasets/andrewmvd/animal-faces\")"
      ]
    },
    {
      "cell_type": "code",
      "source": [
        "import torch\n",
        "from torch import nn\n",
        "from torch.optim import Adam\n",
        "from torchvision.transforms import transforms\n",
        "from torch.utils.data import Dataset, DataLoader\n",
        "from sklearn.preprocessing import LabelEncoder\n",
        "import matplotlib.pyplot as plt\n",
        "from PIL import Image\n",
        "import pandas as pd\n",
        "import numpy as np\n",
        "import os\n",
        "\n",
        "device = \"cuda\" if torch.cuda.is_available() else \"cpu\"\n",
        "print(device)"
      ],
      "metadata": {
        "colab": {
          "base_uri": "https://localhost:8080/"
        },
        "id": "zRsSJSolgvSU",
        "outputId": "ed670b67-2702-45ce-ca84-1eb5c4d66fed"
      },
      "execution_count": null,
      "outputs": [
        {
          "output_type": "stream",
          "name": "stdout",
          "text": [
            "cuda\n"
          ]
        }
      ]
    },
    {
      "cell_type": "code",
      "source": [
        "image_path = []\n",
        "labels = []\n",
        "\n",
        "for i in os.listdir(\"/content/animal-faces/afhq\"):\n",
        "  for label in os.listdir(f'/content/animal-faces/afhq/{i}'):\n",
        "    for image in os.listdir(f'/content/animal-faces/afhq/{i}/{label}'):\n",
        "      image_path.append(f'/content/animal-faces/afhq/{i}/{label}/{image}')\n",
        "      labels.append(label)\n",
        "\n",
        "data_df = pd.DataFrame(zip(image_path, labels), columns = ['image_path', 'labels'])"
      ],
      "metadata": {
        "id": "x8fFwe7Ph_gk"
      },
      "execution_count": null,
      "outputs": []
    },
    {
      "cell_type": "code",
      "source": [
        "train = data_df.sample(frac = 0.7)\n",
        "test = data_df.drop(train.index)\n",
        "\n",
        "val = test.sample(frac = 0.5)\n",
        "test = test.drop(val.index)"
      ],
      "metadata": {
        "id": "B5iyVwqIjrJe"
      },
      "execution_count": null,
      "outputs": []
    },
    {
      "cell_type": "code",
      "source": [
        "label_encoder = LabelEncoder()\n",
        "label_encoder.fit(data_df['labels'])\n",
        "\n",
        "transform = transforms.Compose([\n",
        "    transforms.Resize((128, 128)),\n",
        "    transforms.ToTensor(),\n",
        "    transforms.ConvertImageDtype(torch.float)\n",
        "    ])"
      ],
      "metadata": {
        "id": "XIq0F4UfkSDu"
      },
      "execution_count": null,
      "outputs": []
    },
    {
      "cell_type": "code",
      "source": [
        "class CustomImageDataset(Dataset):\n",
        "    def __init__(self, dataframe, transform=None):\n",
        "        self.dataframe = dataframe\n",
        "        self.transform = transform\n",
        "        self.labels = torch.tensor(label_encoder.transform(dataframe['labels'])).to(device)\n",
        "\n",
        "    def __len__(self):\n",
        "        return self.dataframe.shape[0]\n",
        "\n",
        "    def __getitem__(self, idx):\n",
        "        img_path = self.dataframe.iloc[idx, 0]\n",
        "        label = self.labels[idx]\n",
        "        image = Image.open(img_path).convert('RGB')\n",
        "        if self.transform:\n",
        "          image = self.transform(image).to(device)\n",
        "\n",
        "        return image, label"
      ],
      "metadata": {
        "id": "5diRk_RJlnko"
      },
      "execution_count": null,
      "outputs": []
    },
    {
      "cell_type": "code",
      "source": [
        "train_dataset = CustomImageDataset(dataframe = train, transform = transform)\n",
        "val_dataset = CustomImageDataset(dataframe = val, transform = transform)\n",
        "test_dataset = CustomImageDataset(dataframe = test, transform = transform)"
      ],
      "metadata": {
        "id": "mTrvEa19nBXW"
      },
      "execution_count": null,
      "outputs": []
    },
    {
      "cell_type": "code",
      "source": [
        "LR = 1e-4\n",
        "BATCH_SIZE = 16\n",
        "EPOCHS = 10"
      ],
      "metadata": {
        "id": "wZUf1M35nZHJ"
      },
      "execution_count": null,
      "outputs": []
    },
    {
      "cell_type": "code",
      "source": [
        "train_loader = DataLoader(train_dataset, batch_size=BATCH_SIZE, shuffle=True)\n",
        "val_loader = DataLoader(val_dataset, batch_size=BATCH_SIZE, shuffle=True)\n",
        "test_loader = DataLoader(test_dataset, batch_size=BATCH_SIZE, shuffle=True)"
      ],
      "metadata": {
        "id": "EFPeGrtMn6Jt"
      },
      "execution_count": null,
      "outputs": []
    },
    {
      "cell_type": "code",
      "source": [
        "class Net(nn.Module):\n",
        "    def __init__(self):\n",
        "      super().__init__()\n",
        "\n",
        "      self.conv1 = nn.Conv2d(3, 32, kernel_size = 3, padding = 1) # First Convolution layer\n",
        "      self.conv2 = nn.Conv2d(32, 64, kernel_size = 3, padding = 1) # Second Convolution layer\n",
        "      self.conv3 = nn.Conv2d(64, 128, kernel_size = 3, padding = 1) # Third Convolution layer\n",
        "      self.pooling = nn.MaxPool2d(2,2) # The pooling layer, we will be using the same layer after each conv2d.\n",
        "      self.relu = nn.ReLU() # ReLU Activation function\n",
        "\n",
        "      self.flatten = nn.Flatten() # Flatten and vectorize the output feature maps that somes from the final convolution layer.\n",
        "      self.linear = nn.Linear((128 * 16 * 16), 128) # Traditional Dense (Linear)\n",
        "      self.output = nn.Linear(128, len(data_df['labels'].unique())) # Output Linear Layer\n",
        "\n",
        "\n",
        "    def forward(self, x):\n",
        "      x = self.conv1(x) # -> Outputs: (32, 128, 128)\n",
        "      x = self.pooling(x)# -> Outputs: (32, 64, 64)\n",
        "      x = self.relu(x)\n",
        "      x = self.conv2(x) # -> Outputs: (64, 64, 64)\n",
        "      x = self.pooling(x) # -> Outputs: (64, 32, 32)\n",
        "      x = self.relu(x)\n",
        "      x = self.conv3(x) # -> Outputs: (128, 32, 32)\n",
        "      x = self.pooling(x) # -> Outputs: (128, 16, 16)\n",
        "      x = self.relu(x)\n",
        "      x = self.flatten(x)\n",
        "      x = self.linear(x)\n",
        "      x = self.output(x)\n",
        "\n",
        "      return x\n",
        "\n",
        "model = Net().to(device) # Create an instance of the model and move it to the GPU Device\n"
      ],
      "metadata": {
        "id": "GG-8Jt79ocay"
      },
      "execution_count": null,
      "outputs": []
    },
    {
      "cell_type": "code",
      "source": [
        "from torchsummary import summary\n",
        "summary(model, input_size = (3, 128, 128))"
      ],
      "metadata": {
        "colab": {
          "base_uri": "https://localhost:8080/"
        },
        "id": "E3S6SNwppau3",
        "outputId": "5beafdb1-fd9e-459a-9540-340186630261"
      },
      "execution_count": null,
      "outputs": [
        {
          "output_type": "stream",
          "name": "stdout",
          "text": [
            "----------------------------------------------------------------\n",
            "        Layer (type)               Output Shape         Param #\n",
            "================================================================\n",
            "            Conv2d-1         [-1, 32, 128, 128]             896\n",
            "         MaxPool2d-2           [-1, 32, 64, 64]               0\n",
            "              ReLU-3           [-1, 32, 64, 64]               0\n",
            "            Conv2d-4           [-1, 64, 64, 64]          18,496\n",
            "         MaxPool2d-5           [-1, 64, 32, 32]               0\n",
            "              ReLU-6           [-1, 64, 32, 32]               0\n",
            "            Conv2d-7          [-1, 128, 32, 32]          73,856\n",
            "         MaxPool2d-8          [-1, 128, 16, 16]               0\n",
            "              ReLU-9          [-1, 128, 16, 16]               0\n",
            "          Flatten-10                [-1, 32768]               0\n",
            "           Linear-11                  [-1, 128]       4,194,432\n",
            "           Linear-12                    [-1, 3]             387\n",
            "================================================================\n",
            "Total params: 4,288,067\n",
            "Trainable params: 4,288,067\n",
            "Non-trainable params: 0\n",
            "----------------------------------------------------------------\n",
            "Input size (MB): 0.19\n",
            "Forward/backward pass size (MB): 10.75\n",
            "Params size (MB): 16.36\n",
            "Estimated Total Size (MB): 27.30\n",
            "----------------------------------------------------------------\n"
          ]
        }
      ]
    },
    {
      "cell_type": "code",
      "source": [
        "criterion = nn.CrossEntropyLoss() # Cross Entropy Loss\n",
        "optimizer = Adam(model.parameters(), lr=LR) # Adam optimizer"
      ],
      "metadata": {
        "id": "WXPhp_sppeG1"
      },
      "execution_count": null,
      "outputs": []
    },
    {
      "cell_type": "code",
      "source": [
        "total_loss_train_plot = []\n",
        "total_loss_validation_plot = []\n",
        "total_acc_train_plot = []\n",
        "total_acc_validation_plot = []\n",
        "\n",
        "\n",
        "for epoch in range(EPOCHS):\n",
        "  total_acc_train = 0\n",
        "  total_loss_train = 0\n",
        "  total_loss_val = 0\n",
        "  total_acc_val = 0\n",
        "\n",
        "  for inputs, labels in train_loader:\n",
        "    optimizer.zero_grad()\n",
        "    outputs = model(inputs)\n",
        "    train_loss = criterion(outputs, labels)\n",
        "    total_loss_train += train_loss.item()\n",
        "    train_loss.backward()\n",
        "\n",
        "    train_acc = (torch.argmax(outputs, axis = 1) == labels).sum().item()\n",
        "    total_acc_train += train_acc\n",
        "    optimizer.step()\n",
        "\n",
        "  with torch.no_grad():\n",
        "    for inputs, labels in val_loader:\n",
        "      outputs = model(inputs)\n",
        "      val_loss = criterion(outputs, labels)\n",
        "      total_loss_val += val_loss.item()\n",
        "\n",
        "      val_acc = (torch.argmax(outputs, axis = 1) == labels).sum().item()\n",
        "      total_acc_val += val_acc\n",
        "\n",
        "  total_loss_train_plot.append(round(total_loss_train/1000, 4))\n",
        "  total_loss_validation_plot.append(round(total_loss_val/1000, 4))\n",
        "  total_acc_train_plot.append(round(total_acc_train/(train_dataset.__len__())*100, 4))\n",
        "  total_acc_validation_plot.append(round(total_acc_val/(val_dataset.__len__())*100, 4))\n",
        "  print(f'''Epoch {epoch+1}/{EPOCHS}, Train Loss: {round(total_loss_train/100, 4)} Train Accuracy {round((total_acc_train)/train_dataset.__len__() * 100, 4)}\n",
        "              Validation Loss: {round(total_loss_val/100, 4)} Validation Accuracy: {round((total_acc_val)/val_dataset.__len__() * 100, 4)}''')\n",
        "  print(\"=\"*25)"
      ],
      "metadata": {
        "colab": {
          "base_uri": "https://localhost:8080/"
        },
        "id": "3O88PuolpiWW",
        "outputId": "d474f7f7-3b3a-48ec-c004-d8602d9ea066"
      },
      "execution_count": null,
      "outputs": [
        {
          "output_type": "stream",
          "name": "stdout",
          "text": [
            "Epoch 1/10, Train Loss: 3.2073 Train Accuracy 81.1974\n",
            "              Validation Loss: 0.3869 Validation Accuracy: 90.3306\n",
            "=========================\n",
            "Epoch 2/10, Train Loss: 1.3488 Train Accuracy 92.9147\n",
            "              Validation Loss: 0.2488 Validation Accuracy: 93.9256\n",
            "=========================\n",
            "Epoch 3/10, Train Loss: 0.8982 Train Accuracy 95.3768\n",
            "              Validation Loss: 0.2125 Validation Accuracy: 94.876\n",
            "=========================\n",
            "Epoch 4/10, Train Loss: 0.6229 Train Accuracy 96.8116\n",
            "              Validation Loss: 0.1757 Validation Accuracy: 95.9504\n",
            "=========================\n",
            "Epoch 5/10, Train Loss: 0.4744 Train Accuracy 97.5644\n",
            "              Validation Loss: 0.138 Validation Accuracy: 96.5289\n",
            "=========================\n",
            "Epoch 6/10, Train Loss: 0.349 Train Accuracy 98.1578\n",
            "              Validation Loss: 0.1326 Validation Accuracy: 97.1074\n",
            "=========================\n",
            "Epoch 7/10, Train Loss: 0.2646 Train Accuracy 98.7246\n",
            "              Validation Loss: 0.1639 Validation Accuracy: 96.2397\n",
            "=========================\n",
            "Epoch 8/10, Train Loss: 0.1906 Train Accuracy 99.1232\n",
            "              Validation Loss: 0.1496 Validation Accuracy: 96.6116\n",
            "=========================\n",
            "Epoch 9/10, Train Loss: 0.1727 Train Accuracy 99.1763\n",
            "              Validation Loss: 0.1423 Validation Accuracy: 96.5702\n",
            "=========================\n",
            "Epoch 10/10, Train Loss: 0.105 Train Accuracy 99.504\n",
            "              Validation Loss: 0.1296 Validation Accuracy: 96.9835\n",
            "=========================\n"
          ]
        }
      ]
    },
    {
      "cell_type": "code",
      "source": [
        "with torch.no_grad():\n",
        "  total_loss_test = 0\n",
        "  total_acc_test = 0\n",
        "  for inputs, labels in test_loader:\n",
        "    predictions = model(inputs)\n",
        "\n",
        "    acc = (torch.argmax(predictions, axis = 1) == labels).sum().item()\n",
        "    total_acc_test += acc\n",
        "    test_loss = criterion(predictions, labels)\n",
        "    total_loss_test += test_loss.item()\n",
        "\n",
        "print(f\"Accuracy Score is: {round((total_acc_test/test_dataset.__len__()) * 100, 4)} and Loss is {round(total_loss_test/1000, 4)}\")\n"
      ],
      "metadata": {
        "id": "qJEkfiDYsH-K",
        "colab": {
          "base_uri": "https://localhost:8080/"
        },
        "outputId": "c6d11567-2a92-408f-c91f-037def36b147"
      },
      "execution_count": null,
      "outputs": [
        {
          "output_type": "stream",
          "name": "stdout",
          "text": [
            "Accuracy Score is: 96.4035 and Loss is 0.0192\n"
          ]
        }
      ]
    },
    {
      "cell_type": "code",
      "source": [
        "fig, axs = plt.subplots(nrows=1, ncols=2, figsize=(15, 5))\n",
        "\n",
        "axs[0].plot(total_loss_train_plot, label='Training Loss')\n",
        "axs[0].plot(total_loss_validation_plot, label='Validation Loss')\n",
        "axs[0].set_title('Training and Validation Loss over Epochs')\n",
        "axs[0].set_xlabel('Epochs')\n",
        "axs[0].set_ylabel('Loss')\n",
        "axs[0].legend()\n",
        "\n",
        "axs[1].plot(total_acc_train_plot, label='Training Accuracy')\n",
        "axs[1].plot(total_acc_validation_plot, label='Validation Accuracy')\n",
        "axs[1].set_title('Training and Validation Accuracy over Epochs')\n",
        "axs[1].set_xlabel('Epochs')\n",
        "axs[1].set_ylabel('Accuracy')\n",
        "axs[1].legend()\n",
        "\n",
        "plt.tight_layout()\n",
        "\n",
        "plt.show()"
      ],
      "metadata": {
        "id": "Rj0cTNxIsr1k",
        "colab": {
          "base_uri": "https://localhost:8080/",
          "height": 482
        },
        "outputId": "a0d4074d-a99c-4136-d2d8-7af2cf0a84af"
      },
      "execution_count": null,
      "outputs": [
        {
          "output_type": "display_data",
          "data": {
            "text/plain": [
              "<Figure size 1500x500 with 2 Axes>"
            ],
            "image/png": "[encoded data removed]"
          },
          "metadata": {}
        }
      ]
    },
    {
      "cell_type": "code",
      "source": [
        "\n",
        "# 1- read image\n",
        "# 2- Transform using transform object\n",
        "# 3- predict through the model\n",
        "# 4- inverse transform by label encoder\n",
        "\n",
        "def predict_image(image_path):\n",
        "  image = Image.open(image_path).convert('RGB')\n",
        "  image = transform(image).to(device)\n",
        "\n",
        "  output = model(image.unsqueeze(0))\n",
        "  output = torch.argmax(output, axis = 1).item()\n",
        "  return label_encoder.inverse_transform([output])\n"
      ],
      "metadata": {
        "id": "EvQSVb21swZO"
      },
      "execution_count": null,
      "outputs": []
    }
  ]
}